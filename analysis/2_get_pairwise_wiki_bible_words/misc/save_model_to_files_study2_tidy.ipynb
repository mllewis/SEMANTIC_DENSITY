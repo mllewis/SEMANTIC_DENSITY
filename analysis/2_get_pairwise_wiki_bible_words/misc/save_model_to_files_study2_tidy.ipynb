{
 "cells": [
  {
   "cell_type": "markdown",
   "metadata": {},
   "source": [
    "# L2ETS Study 2\n"
   ]
  },
  {
   "cell_type": "markdown",
   "metadata": {},
   "source": [
    "Save data from ETS as feathers so can explore in R"
   ]
  },
  {
   "cell_type": "markdown",
   "metadata": {},
   "source": [
    "## Import and save gensim model"
   ]
  },
  {
   "cell_type": "code",
   "execution_count": 2,
   "metadata": {},
   "outputs": [
    {
     "name": "stdout",
     "output_type": "stream",
     "text": [
      "2.3.0\n"
     ]
    }
   ],
   "source": [
    "import gensim \n",
    "import gensim.models as g\n",
    "print(gensim.__version__)\n",
    "import pandas as pd\n",
    "import numpy as np\n",
    "import feather as f\n",
    "import pickle\n",
    "import feather\n",
    "import os"
   ]
  },
  {
   "cell_type": "code",
   "execution_count": 4,
   "metadata": {},
   "outputs": [],
   "source": [
    "mod = g.Doc2Vec.load(\"../../data/raw/models/all.model\")"
   ]
  },
  {
   "cell_type": "markdown",
   "metadata": {},
   "source": [
    "There are 38500 essays with vectors of length 200."
   ]
  },
  {
   "cell_type": "code",
   "execution_count": 5,
   "metadata": {},
   "outputs": [
    {
     "name": "stdout",
     "output_type": "stream",
     "text": [
      "\n",
      "shape=(38500, 200)\n"
     ]
    }
   ],
   "source": [
    "print(\"\\nshape=\" + str(mod.docvecs.doctag_syn0.shape))"
   ]
  },
  {
   "cell_type": "markdown",
   "metadata": {},
   "source": [
    "# Doc vectors"
   ]
  },
  {
   "cell_type": "markdown",
   "metadata": {},
   "source": [
    "### Save doc vector indices so can merge with meta data"
   ]
  },
  {
   "cell_type": "code",
   "execution_count": 7,
   "metadata": {},
   "outputs": [],
   "source": [
    "all_doct_tags = pd.DataFrame()\n",
    "doctag_ids_for_R = all_doct_tags.from_dict(mod.docvecs.doctags).T\n",
    "doctag_ids_for_R.columns = ['offset', 'word_count', 'doc_count']\n",
    "doctag_ids_for_R.index.name = 'essay_id'\n",
    "doctag_ids_for_R.reset_index(inplace = True)\n",
    "f.write_dataframe(doctag_ids_for_R, \"../../data/doctag_indices_all_model.feather\")"
   ]
  },
  {
   "cell_type": "markdown",
   "metadata": {},
   "source": [
    "### Save doc vectors"
   ]
  },
  {
   "cell_type": "code",
   "execution_count": 8,
   "metadata": {},
   "outputs": [],
   "source": [
    "docvecs_for_R = pd.DataFrame(mod.docvecs.doctag_syn0)\n",
    "f.write_dataframe(docvecs_for_R, \"../../data/docvecs_all_model.feather\")"
   ]
  },  
  "source": [
    "#wc.keys()\n",
    "ec = []\n",
    "for key in wc:\n",
    "    df = wc[key]\n",
    "    df[\"essay_id\"] = key\n",
    "    ec.append(df)\n",
    "\n",
    "ec_df = pd.concat(ec)\n",
    "feather.write_dataframe(ec_df, 'essay_word_counts.feather')"
   ]
  }
 ],
 "metadata": {
  "kernelspec": {
   "display_name": "Python 2",
   "language": "python",
   "name": "python2"
  },
  "language_info": {
   "codemirror_mode": {
    "name": "ipython",
    "version": 3
   },
   "file_extension": ".py",
   "mimetype": "text/x-python",
   "name": "python",
   "nbconvert_exporter": "python",
   "pygments_lexer": "ipython3",
   "version": "3.6.2"
  }
 },
 "nbformat": 4,
 "nbformat_minor": 2
}